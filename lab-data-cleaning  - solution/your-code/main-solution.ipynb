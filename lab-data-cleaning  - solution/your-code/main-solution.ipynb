{
 "cells": [
  {
   "cell_type": "markdown",
   "metadata": {},
   "source": [
    "#### 1. Import pandas library"
   ]
  },
  {
   "cell_type": "code",
   "execution_count": 50,
   "metadata": {
    "collapsed": true
   },
   "outputs": [],
   "source": [
    "import pandas as pd"
   ]
  },
  {
   "cell_type": "markdown",
   "metadata": {},
   "source": [
    "#### 2. Import BigQuery library\n"
   ]
  },
  {
   "cell_type": "code",
   "execution_count": 1,
   "metadata": {
    "collapsed": true
   },
   "outputs": [],
   "source": [
    "from google.cloud import bigquery\n"
   ]
  },
  {
   "cell_type": "markdown",
   "metadata": {},
   "source": [
    "#### 3. Create a connection to BigQuery"
   ]
  },
  {
   "cell_type": "code",
   "execution_count": 6,
   "metadata": {},
   "outputs": [],
   "source": [
    "import os\n",
    "os.environ[\"GOOGLE_APPLICATION_CREDENTIALS\"]=\"/Users/Myrto.Setzi/data-labs/module-1/lab-data_cleaning/your-code/Ironhack Data Analytics.json\"\n",
    "\n",
    "client = bigquery.Client()"
   ]
  },
  {
   "cell_type": "markdown",
   "metadata": {},
   "source": [
    "#### 4. Import data from the users table from the stackoverflow public database for United Kingdom only"
   ]
  },
  {
   "cell_type": "code",
   "execution_count": 11,
   "metadata": {
    "collapsed": true
   },
   "outputs": [],
   "source": [
    "query_users='''\n",
    "SELECT \n",
    "    * \n",
    "FROM \n",
    "    `bigquery-public-data.stackoverflow.users`\n",
    "WHERE\n",
    "    location='United Kingdom'\n",
    "'''\n",
    "query_job = client.query(query=query_users)"
   ]
  },
  {
   "cell_type": "code",
   "execution_count": 12,
   "metadata": {},
   "outputs": [],
   "source": [
    "users=query_job.to_dataframe()"
   ]
  },
  {
   "cell_type": "markdown",
   "metadata": {},
   "source": [
    "#### 5. Rename id column to user_id"
   ]
  },
  {
   "cell_type": "code",
   "execution_count": 15,
   "metadata": {
    "collapsed": true
   },
   "outputs": [],
   "source": [
    "users = users.rename(columns={'id': 'user_id'})"
   ]
  },
  {
   "cell_type": "code",
   "execution_count": 16,
   "metadata": {},
   "outputs": [
    {
     "data": {
      "text/html": [
       "<div>\n",
       "<style>\n",
       "    .dataframe thead tr:only-child th {\n",
       "        text-align: right;\n",
       "    }\n",
       "\n",
       "    .dataframe thead th {\n",
       "        text-align: left;\n",
       "    }\n",
       "\n",
       "    .dataframe tbody tr th {\n",
       "        vertical-align: top;\n",
       "    }\n",
       "</style>\n",
       "<table border=\"1\" class=\"dataframe\">\n",
       "  <thead>\n",
       "    <tr style=\"text-align: right;\">\n",
       "      <th></th>\n",
       "      <th>user_id</th>\n",
       "      <th>display_name</th>\n",
       "      <th>about_me</th>\n",
       "      <th>age</th>\n",
       "      <th>creation_date</th>\n",
       "      <th>last_access_date</th>\n",
       "      <th>location</th>\n",
       "      <th>reputation</th>\n",
       "      <th>up_votes</th>\n",
       "      <th>down_votes</th>\n",
       "      <th>views</th>\n",
       "      <th>profile_image_url</th>\n",
       "      <th>website_url</th>\n",
       "    </tr>\n",
       "  </thead>\n",
       "  <tbody>\n",
       "    <tr>\n",
       "      <th>0</th>\n",
       "      <td>32777</td>\n",
       "      <td>dmcnally</td>\n",
       "      <td></td>\n",
       "      <td></td>\n",
       "      <td>2008-10-30 14:40:32.323000+00:00</td>\n",
       "      <td>2019-05-22 06:53:30.717000+00:00</td>\n",
       "      <td>United Kingdom</td>\n",
       "      <td>731</td>\n",
       "      <td>16</td>\n",
       "      <td>6</td>\n",
       "      <td>38</td>\n",
       "      <td></td>\n",
       "      <td>http://artofsource.com</td>\n",
       "    </tr>\n",
       "    <tr>\n",
       "      <th>1</th>\n",
       "      <td>77741</td>\n",
       "      <td>Jimit</td>\n",
       "      <td></td>\n",
       "      <td></td>\n",
       "      <td>2009-03-13 14:16:47.703000+00:00</td>\n",
       "      <td>2019-05-29 09:49:12.330000+00:00</td>\n",
       "      <td>United Kingdom</td>\n",
       "      <td>435</td>\n",
       "      <td>28</td>\n",
       "      <td>1</td>\n",
       "      <td>110</td>\n",
       "      <td></td>\n",
       "      <td></td>\n",
       "    </tr>\n",
       "    <tr>\n",
       "      <th>2</th>\n",
       "      <td>174979</td>\n",
       "      <td>Justin Emery</td>\n",
       "      <td>&lt;p&gt;I mostly work with web technologies. Lots o...</td>\n",
       "      <td></td>\n",
       "      <td>2009-09-17 14:05:34.943000+00:00</td>\n",
       "      <td>2019-05-29 12:38:46.327000+00:00</td>\n",
       "      <td>United Kingdom</td>\n",
       "      <td>916</td>\n",
       "      <td>186</td>\n",
       "      <td>19</td>\n",
       "      <td>91</td>\n",
       "      <td>https://www.gravatar.com/avatar/f6354e6366838e...</td>\n",
       "      <td>http://www.justinemery.co.uk</td>\n",
       "    </tr>\n",
       "    <tr>\n",
       "      <th>3</th>\n",
       "      <td>1502608</td>\n",
       "      <td>David Tew</td>\n",
       "      <td></td>\n",
       "      <td></td>\n",
       "      <td>2012-07-04 22:59:03.567000+00:00</td>\n",
       "      <td>2019-05-19 19:55:32.693000+00:00</td>\n",
       "      <td>United Kingdom</td>\n",
       "      <td>1264</td>\n",
       "      <td>44</td>\n",
       "      <td>0</td>\n",
       "      <td>90</td>\n",
       "      <td></td>\n",
       "      <td>http://www.drpbanerji.com</td>\n",
       "    </tr>\n",
       "    <tr>\n",
       "      <th>4</th>\n",
       "      <td>2550349</td>\n",
       "      <td>ArthurChamz</td>\n",
       "      <td>&lt;p&gt;I'm a software engineer. That's all for now...</td>\n",
       "      <td></td>\n",
       "      <td>2013-07-04 11:52:06.953000+00:00</td>\n",
       "      <td>2019-05-31 10:35:48.813000+00:00</td>\n",
       "      <td>United Kingdom</td>\n",
       "      <td>1674</td>\n",
       "      <td>398</td>\n",
       "      <td>8</td>\n",
       "      <td>170</td>\n",
       "      <td>https://i.stack.imgur.com/M3Tx5.jpg?s=128&amp;g=1</td>\n",
       "      <td>http://mx.linkedin.com/in/arturocastroperpuli/</td>\n",
       "    </tr>\n",
       "  </tbody>\n",
       "</table>\n",
       "</div>"
      ],
      "text/plain": [
       "   user_id  display_name                                           about_me  \\\n",
       "0    32777      dmcnally                                                      \n",
       "1    77741         Jimit                                                      \n",
       "2   174979  Justin Emery  <p>I mostly work with web technologies. Lots o...   \n",
       "3  1502608     David Tew                                                      \n",
       "4  2550349   ArthurChamz  <p>I'm a software engineer. That's all for now...   \n",
       "\n",
       "  age                    creation_date                 last_access_date  \\\n",
       "0     2008-10-30 14:40:32.323000+00:00 2019-05-22 06:53:30.717000+00:00   \n",
       "1     2009-03-13 14:16:47.703000+00:00 2019-05-29 09:49:12.330000+00:00   \n",
       "2     2009-09-17 14:05:34.943000+00:00 2019-05-29 12:38:46.327000+00:00   \n",
       "3     2012-07-04 22:59:03.567000+00:00 2019-05-19 19:55:32.693000+00:00   \n",
       "4     2013-07-04 11:52:06.953000+00:00 2019-05-31 10:35:48.813000+00:00   \n",
       "\n",
       "         location  reputation  up_votes  down_votes  views  \\\n",
       "0  United Kingdom         731        16           6     38   \n",
       "1  United Kingdom         435        28           1    110   \n",
       "2  United Kingdom         916       186          19     91   \n",
       "3  United Kingdom        1264        44           0     90   \n",
       "4  United Kingdom        1674       398           8    170   \n",
       "\n",
       "                                   profile_image_url  \\\n",
       "0                                                      \n",
       "1                                                      \n",
       "2  https://www.gravatar.com/avatar/f6354e6366838e...   \n",
       "3                                                      \n",
       "4      https://i.stack.imgur.com/M3Tx5.jpg?s=128&g=1   \n",
       "\n",
       "                                      website_url  \n",
       "0                          http://artofsource.com  \n",
       "1                                                  \n",
       "2                    http://www.justinemery.co.uk  \n",
       "3                       http://www.drpbanerji.com  \n",
       "4  http://mx.linkedin.com/in/arturocastroperpuli/  "
      ]
     },
     "execution_count": 16,
     "metadata": {},
     "output_type": "execute_result"
    }
   ],
   "source": [
    "users.head()"
   ]
  },
  {
   "cell_type": "markdown",
   "metadata": {},
   "source": [
    "#### 6. Import from the stackoverflow_posts table all items which have up to 20 view counts and only select 'id', 'owner_user_id', 'score', 'view_count', 'comment_count', 'favorite_count'"
   ]
  },
  {
   "cell_type": "code",
   "execution_count": 22,
   "metadata": {
    "collapsed": true
   },
   "outputs": [],
   "source": [
    "query_posts='''\n",
    "SELECT \n",
    "    id, \n",
    "    owner_user_id,\n",
    "    score,\n",
    "    view_count,\n",
    "    comment_count,\n",
    "    favorite_count\n",
    "FROM \n",
    "    `bigquery-public-data.stackoverflow.stackoverflow_posts`\n",
    "WHERE\n",
    "    view_count<=20\n",
    "'''\n",
    "query_job = client.query(query=query_posts)"
   ]
  },
  {
   "cell_type": "code",
   "execution_count": 23,
   "metadata": {},
   "outputs": [],
   "source": [
    "posts=query_job.to_dataframe()"
   ]
  },
  {
   "cell_type": "markdown",
   "metadata": {},
   "source": [
    "#### 7. Rename id column to post_id and owner_user_id to user_id"
   ]
  },
  {
   "cell_type": "code",
   "execution_count": 24,
   "metadata": {
    "collapsed": true
   },
   "outputs": [],
   "source": [
    "posts = posts.rename(columns={'id': 'post_id','owner_user_id': 'user_id'})"
   ]
  },
  {
   "cell_type": "markdown",
   "metadata": {},
   "source": [
    "#### 8. Define new dataframes for users and posts with the following selected columns:\n",
    "    **users columns**: user_id, reputation,views,up_votes,down_votes\n",
    "    **posts columns**: post_id, score,user_id,view_count,comment_count"
   ]
  },
  {
   "cell_type": "code",
   "execution_count": 26,
   "metadata": {},
   "outputs": [
    {
     "data": {
      "text/html": [
       "<div>\n",
       "<style>\n",
       "    .dataframe thead tr:only-child th {\n",
       "        text-align: right;\n",
       "    }\n",
       "\n",
       "    .dataframe thead th {\n",
       "        text-align: left;\n",
       "    }\n",
       "\n",
       "    .dataframe tbody tr th {\n",
       "        vertical-align: top;\n",
       "    }\n",
       "</style>\n",
       "<table border=\"1\" class=\"dataframe\">\n",
       "  <thead>\n",
       "    <tr style=\"text-align: right;\">\n",
       "      <th></th>\n",
       "      <th>user_id</th>\n",
       "      <th>reputation</th>\n",
       "      <th>views</th>\n",
       "      <th>up_votes</th>\n",
       "      <th>down_votes</th>\n",
       "    </tr>\n",
       "  </thead>\n",
       "  <tbody>\n",
       "    <tr>\n",
       "      <th>0</th>\n",
       "      <td>32777</td>\n",
       "      <td>731</td>\n",
       "      <td>38</td>\n",
       "      <td>16</td>\n",
       "      <td>6</td>\n",
       "    </tr>\n",
       "    <tr>\n",
       "      <th>1</th>\n",
       "      <td>77741</td>\n",
       "      <td>435</td>\n",
       "      <td>110</td>\n",
       "      <td>28</td>\n",
       "      <td>1</td>\n",
       "    </tr>\n",
       "    <tr>\n",
       "      <th>2</th>\n",
       "      <td>174979</td>\n",
       "      <td>916</td>\n",
       "      <td>91</td>\n",
       "      <td>186</td>\n",
       "      <td>19</td>\n",
       "    </tr>\n",
       "    <tr>\n",
       "      <th>3</th>\n",
       "      <td>1502608</td>\n",
       "      <td>1264</td>\n",
       "      <td>90</td>\n",
       "      <td>44</td>\n",
       "      <td>0</td>\n",
       "    </tr>\n",
       "    <tr>\n",
       "      <th>4</th>\n",
       "      <td>2550349</td>\n",
       "      <td>1674</td>\n",
       "      <td>170</td>\n",
       "      <td>398</td>\n",
       "      <td>8</td>\n",
       "    </tr>\n",
       "  </tbody>\n",
       "</table>\n",
       "</div>"
      ],
      "text/plain": [
       "   user_id  reputation  views  up_votes  down_votes\n",
       "0    32777         731     38        16           6\n",
       "1    77741         435    110        28           1\n",
       "2   174979         916     91       186          19\n",
       "3  1502608        1264     90        44           0\n",
       "4  2550349        1674    170       398           8"
      ]
     },
     "execution_count": 26,
     "metadata": {},
     "output_type": "execute_result"
    }
   ],
   "source": [
    "users = users[['user_id','reputation','views','up_votes','down_votes']]\n",
    "posts = posts[['post_id','user_id','score','view_count','comment_count']]\n",
    "\n",
    "users.head()"
   ]
  },
  {
   "cell_type": "code",
   "execution_count": 27,
   "metadata": {},
   "outputs": [
    {
     "data": {
      "text/html": [
       "<div>\n",
       "<style>\n",
       "    .dataframe thead tr:only-child th {\n",
       "        text-align: right;\n",
       "    }\n",
       "\n",
       "    .dataframe thead th {\n",
       "        text-align: left;\n",
       "    }\n",
       "\n",
       "    .dataframe tbody tr th {\n",
       "        vertical-align: top;\n",
       "    }\n",
       "</style>\n",
       "<table border=\"1\" class=\"dataframe\">\n",
       "  <thead>\n",
       "    <tr style=\"text-align: right;\">\n",
       "      <th></th>\n",
       "      <th>post_id</th>\n",
       "      <th>user_id</th>\n",
       "      <th>score</th>\n",
       "      <th>view_count</th>\n",
       "      <th>comment_count</th>\n",
       "    </tr>\n",
       "  </thead>\n",
       "  <tbody>\n",
       "    <tr>\n",
       "      <th>0</th>\n",
       "      <td>24292513</td>\n",
       "      <td>NaN</td>\n",
       "      <td>0</td>\n",
       "      <td>19</td>\n",
       "      <td>7</td>\n",
       "    </tr>\n",
       "    <tr>\n",
       "      <th>1</th>\n",
       "      <td>35155703</td>\n",
       "      <td>NaN</td>\n",
       "      <td>0</td>\n",
       "      <td>16</td>\n",
       "      <td>0</td>\n",
       "    </tr>\n",
       "    <tr>\n",
       "      <th>2</th>\n",
       "      <td>35029414</td>\n",
       "      <td>3479566.0</td>\n",
       "      <td>0</td>\n",
       "      <td>16</td>\n",
       "      <td>1</td>\n",
       "    </tr>\n",
       "    <tr>\n",
       "      <th>3</th>\n",
       "      <td>33501255</td>\n",
       "      <td>NaN</td>\n",
       "      <td>1</td>\n",
       "      <td>14</td>\n",
       "      <td>0</td>\n",
       "    </tr>\n",
       "    <tr>\n",
       "      <th>4</th>\n",
       "      <td>31512834</td>\n",
       "      <td>NaN</td>\n",
       "      <td>0</td>\n",
       "      <td>12</td>\n",
       "      <td>2</td>\n",
       "    </tr>\n",
       "  </tbody>\n",
       "</table>\n",
       "</div>"
      ],
      "text/plain": [
       "    post_id    user_id  score  view_count  comment_count\n",
       "0  24292513        NaN      0          19              7\n",
       "1  35155703        NaN      0          16              0\n",
       "2  35029414  3479566.0      0          16              1\n",
       "3  33501255        NaN      1          14              0\n",
       "4  31512834        NaN      0          12              2"
      ]
     },
     "execution_count": 27,
     "metadata": {},
     "output_type": "execute_result"
    }
   ],
   "source": [
    "posts.head()"
   ]
  },
  {
   "cell_type": "markdown",
   "metadata": {},
   "source": [
    "#### 8. Merge both dataframes, users and posts. \n",
    "You will need to make a [merge](https://pandas.pydata.org/pandas-docs/stable/generated/pandas.DataFrame.merge.html) of posts and users dataframes."
   ]
  },
  {
   "cell_type": "code",
   "execution_count": 29,
   "metadata": {},
   "outputs": [],
   "source": [
    "df_merged = users.merge(posts, on='user_id')"
   ]
  },
  {
   "cell_type": "code",
   "execution_count": 43,
   "metadata": {},
   "outputs": [
    {
     "data": {
      "text/html": [
       "<div>\n",
       "<style>\n",
       "    .dataframe thead tr:only-child th {\n",
       "        text-align: right;\n",
       "    }\n",
       "\n",
       "    .dataframe thead th {\n",
       "        text-align: left;\n",
       "    }\n",
       "\n",
       "    .dataframe tbody tr th {\n",
       "        vertical-align: top;\n",
       "    }\n",
       "</style>\n",
       "<table border=\"1\" class=\"dataframe\">\n",
       "  <thead>\n",
       "    <tr style=\"text-align: right;\">\n",
       "      <th></th>\n",
       "      <th>user_id</th>\n",
       "      <th>reputation</th>\n",
       "      <th>views</th>\n",
       "      <th>up_votes</th>\n",
       "      <th>down_votes</th>\n",
       "      <th>post_id</th>\n",
       "      <th>score</th>\n",
       "      <th>view_count</th>\n",
       "      <th>comment_count</th>\n",
       "    </tr>\n",
       "  </thead>\n",
       "  <tbody>\n",
       "    <tr>\n",
       "      <th>0</th>\n",
       "      <td>2550349</td>\n",
       "      <td>1674</td>\n",
       "      <td>170</td>\n",
       "      <td>398</td>\n",
       "      <td>8</td>\n",
       "      <td>36705627</td>\n",
       "      <td>2</td>\n",
       "      <td>20</td>\n",
       "      <td>1</td>\n",
       "    </tr>\n",
       "    <tr>\n",
       "      <th>1</th>\n",
       "      <td>2550349</td>\n",
       "      <td>1674</td>\n",
       "      <td>170</td>\n",
       "      <td>398</td>\n",
       "      <td>8</td>\n",
       "      <td>36799577</td>\n",
       "      <td>0</td>\n",
       "      <td>6</td>\n",
       "      <td>0</td>\n",
       "    </tr>\n",
       "    <tr>\n",
       "      <th>2</th>\n",
       "      <td>401743</td>\n",
       "      <td>759</td>\n",
       "      <td>76</td>\n",
       "      <td>8</td>\n",
       "      <td>2</td>\n",
       "      <td>35922834</td>\n",
       "      <td>0</td>\n",
       "      <td>13</td>\n",
       "      <td>0</td>\n",
       "    </tr>\n",
       "    <tr>\n",
       "      <th>3</th>\n",
       "      <td>1145123</td>\n",
       "      <td>454</td>\n",
       "      <td>59</td>\n",
       "      <td>54</td>\n",
       "      <td>0</td>\n",
       "      <td>24964496</td>\n",
       "      <td>0</td>\n",
       "      <td>17</td>\n",
       "      <td>0</td>\n",
       "    </tr>\n",
       "    <tr>\n",
       "      <th>4</th>\n",
       "      <td>1046182</td>\n",
       "      <td>326</td>\n",
       "      <td>81</td>\n",
       "      <td>10</td>\n",
       "      <td>0</td>\n",
       "      <td>36516756</td>\n",
       "      <td>0</td>\n",
       "      <td>20</td>\n",
       "      <td>1</td>\n",
       "    </tr>\n",
       "  </tbody>\n",
       "</table>\n",
       "</div>"
      ],
      "text/plain": [
       "   user_id  reputation  views  up_votes  down_votes   post_id  score  \\\n",
       "0  2550349        1674    170       398           8  36705627      2   \n",
       "1  2550349        1674    170       398           8  36799577      0   \n",
       "2   401743         759     76         8           2  35922834      0   \n",
       "3  1145123         454     59        54           0  24964496      0   \n",
       "4  1046182         326     81        10           0  36516756      0   \n",
       "\n",
       "   view_count  comment_count  \n",
       "0          20              1  \n",
       "1           6              0  \n",
       "2          13              0  \n",
       "3          17              0  \n",
       "4          20              1  "
      ]
     },
     "execution_count": 43,
     "metadata": {},
     "output_type": "execute_result"
    }
   ],
   "source": [
    "df_merged.head()"
   ]
  },
  {
   "cell_type": "markdown",
   "metadata": {},
   "source": [
    "#### 9. How many missing values do you have in your merged dataframe? "
   ]
  },
  {
   "cell_type": "code",
   "execution_count": 33,
   "metadata": {},
   "outputs": [
    {
     "name": "stdout",
     "output_type": "stream",
     "text": [
      "<class 'pandas.core.frame.DataFrame'>\n",
      "Int64Index: 1088 entries, 0 to 1087\n",
      "Data columns (total 9 columns):\n",
      "user_id          1088 non-null object\n",
      "reputation       1088 non-null int64\n",
      "views            1088 non-null int64\n",
      "up_votes         1088 non-null int64\n",
      "down_votes       1088 non-null int64\n",
      "post_id          1088 non-null int64\n",
      "score            1088 non-null int64\n",
      "view_count       1088 non-null int64\n",
      "comment_count    1088 non-null int64\n",
      "dtypes: int64(8), object(1)\n",
      "memory usage: 85.0+ KB\n"
     ]
    }
   ],
   "source": [
    "df_merged.info()"
   ]
  },
  {
   "cell_type": "code",
   "execution_count": 47,
   "metadata": {},
   "outputs": [
    {
     "data": {
      "text/plain": [
       "user_id          0\n",
       "reputation       0\n",
       "views            0\n",
       "up_votes         0\n",
       "down_votes       0\n",
       "post_id          0\n",
       "score            0\n",
       "view_count       0\n",
       "comment_count    0\n",
       "dtype: int64"
      ]
     },
     "execution_count": 47,
     "metadata": {},
     "output_type": "execute_result"
    }
   ],
   "source": [
    "df_merged.isnull().sum()"
   ]
  },
  {
   "cell_type": "markdown",
   "metadata": {},
   "source": [
    "There are no missing values"
   ]
  },
  {
   "cell_type": "markdown",
   "metadata": {},
   "source": [
    "#### Bonus: Identify extreme values in your merged dataframe, create a dataframe called outliers with the same columns as our data set and calculate the bounds. The values of the outliers dataframe will be the values of the merged_df that fall outside that bounds. You will need to save your outliers dataframe to a csv file on your-code folder. Hint: post_id cannot have outliers!"
   ]
  },
  {
   "cell_type": "code",
   "execution_count": 55,
   "metadata": {},
   "outputs": [
    {
     "data": {
      "text/html": [
       "<div>\n",
       "<style>\n",
       "    .dataframe thead tr:only-child th {\n",
       "        text-align: right;\n",
       "    }\n",
       "\n",
       "    .dataframe thead th {\n",
       "        text-align: left;\n",
       "    }\n",
       "\n",
       "    .dataframe tbody tr th {\n",
       "        vertical-align: top;\n",
       "    }\n",
       "</style>\n",
       "<table border=\"1\" class=\"dataframe\">\n",
       "  <thead>\n",
       "    <tr style=\"text-align: right;\">\n",
       "      <th></th>\n",
       "      <th>count</th>\n",
       "      <th>mean</th>\n",
       "      <th>std</th>\n",
       "      <th>min</th>\n",
       "      <th>25%</th>\n",
       "      <th>50%</th>\n",
       "      <th>75%</th>\n",
       "      <th>max</th>\n",
       "      <th>IQR</th>\n",
       "    </tr>\n",
       "  </thead>\n",
       "  <tbody>\n",
       "    <tr>\n",
       "      <th>reputation</th>\n",
       "      <td>1088.0</td>\n",
       "      <td>4815.090074</td>\n",
       "      <td>15438.390331</td>\n",
       "      <td>1.0</td>\n",
       "      <td>139.0</td>\n",
       "      <td>774.0</td>\n",
       "      <td>3128.25</td>\n",
       "      <td>263224.0</td>\n",
       "      <td>2989.25</td>\n",
       "    </tr>\n",
       "    <tr>\n",
       "      <th>views</th>\n",
       "      <td>1088.0</td>\n",
       "      <td>594.238051</td>\n",
       "      <td>1568.560266</td>\n",
       "      <td>0.0</td>\n",
       "      <td>37.0</td>\n",
       "      <td>135.0</td>\n",
       "      <td>462.25</td>\n",
       "      <td>26310.0</td>\n",
       "      <td>425.25</td>\n",
       "    </tr>\n",
       "    <tr>\n",
       "      <th>up_votes</th>\n",
       "      <td>1088.0</td>\n",
       "      <td>384.477941</td>\n",
       "      <td>730.548850</td>\n",
       "      <td>0.0</td>\n",
       "      <td>16.0</td>\n",
       "      <td>89.0</td>\n",
       "      <td>388.25</td>\n",
       "      <td>7664.0</td>\n",
       "      <td>372.25</td>\n",
       "    </tr>\n",
       "    <tr>\n",
       "      <th>down_votes</th>\n",
       "      <td>1088.0</td>\n",
       "      <td>47.390625</td>\n",
       "      <td>167.131398</td>\n",
       "      <td>0.0</td>\n",
       "      <td>0.0</td>\n",
       "      <td>3.0</td>\n",
       "      <td>20.00</td>\n",
       "      <td>2440.0</td>\n",
       "      <td>20.00</td>\n",
       "    </tr>\n",
       "    <tr>\n",
       "      <th>score</th>\n",
       "      <td>1088.0</td>\n",
       "      <td>0.125000</td>\n",
       "      <td>0.588919</td>\n",
       "      <td>-7.0</td>\n",
       "      <td>0.0</td>\n",
       "      <td>0.0</td>\n",
       "      <td>0.00</td>\n",
       "      <td>4.0</td>\n",
       "      <td>0.00</td>\n",
       "    </tr>\n",
       "    <tr>\n",
       "      <th>view_count</th>\n",
       "      <td>1088.0</td>\n",
       "      <td>15.566176</td>\n",
       "      <td>3.699031</td>\n",
       "      <td>3.0</td>\n",
       "      <td>13.0</td>\n",
       "      <td>16.0</td>\n",
       "      <td>19.00</td>\n",
       "      <td>20.0</td>\n",
       "      <td>6.00</td>\n",
       "    </tr>\n",
       "    <tr>\n",
       "      <th>comment_count</th>\n",
       "      <td>1088.0</td>\n",
       "      <td>0.927390</td>\n",
       "      <td>1.641589</td>\n",
       "      <td>0.0</td>\n",
       "      <td>0.0</td>\n",
       "      <td>0.0</td>\n",
       "      <td>1.00</td>\n",
       "      <td>11.0</td>\n",
       "      <td>1.00</td>\n",
       "    </tr>\n",
       "  </tbody>\n",
       "</table>\n",
       "</div>"
      ],
      "text/plain": [
       "                count         mean           std  min    25%    50%      75%  \\\n",
       "reputation     1088.0  4815.090074  15438.390331  1.0  139.0  774.0  3128.25   \n",
       "views          1088.0   594.238051   1568.560266  0.0   37.0  135.0   462.25   \n",
       "up_votes       1088.0   384.477941    730.548850  0.0   16.0   89.0   388.25   \n",
       "down_votes     1088.0    47.390625    167.131398  0.0    0.0    3.0    20.00   \n",
       "score          1088.0     0.125000      0.588919 -7.0    0.0    0.0     0.00   \n",
       "view_count     1088.0    15.566176      3.699031  3.0   13.0   16.0    19.00   \n",
       "comment_count  1088.0     0.927390      1.641589  0.0    0.0    0.0     1.00   \n",
       "\n",
       "                    max      IQR  \n",
       "reputation     263224.0  2989.25  \n",
       "views           26310.0   425.25  \n",
       "up_votes         7664.0   372.25  \n",
       "down_votes       2440.0    20.00  \n",
       "score               4.0     0.00  \n",
       "view_count         20.0     6.00  \n",
       "comment_count      11.0     1.00  "
      ]
     },
     "execution_count": 55,
     "metadata": {},
     "output_type": "execute_result"
    }
   ],
   "source": [
    "stats = df_merged.loc[:, df_merged.columns != 'post_id'].describe().T\n",
    "stats['IQR'] = stats['75%'] - stats['25%']\n",
    "stats"
   ]
  },
  {
   "cell_type": "code",
   "execution_count": 56,
   "metadata": {},
   "outputs": [],
   "source": [
    "outliers = pd.DataFrame(columns=df_merged.columns)"
   ]
  },
  {
   "cell_type": "code",
   "execution_count": 57,
   "metadata": {
    "collapsed": true
   },
   "outputs": [],
   "source": [
    "for col in stats.index:\n",
    "    iqr = stats.at[col,'IQR']\n",
    "    cutoff = iqr * 1.5\n",
    "    lower = stats.at[col,'25%'] - cutoff\n",
    "    upper = stats.at[col,'75%'] + cutoff\n",
    "    results = df_merged[(df_merged[col] < lower) | \n",
    "                   (df_merged[col] > upper)].copy()\n",
    "    results['Outlier'] = col\n",
    "    outliers = outliers.append(results)"
   ]
  },
  {
   "cell_type": "code",
   "execution_count": 63,
   "metadata": {
    "collapsed": true
   },
   "outputs": [],
   "source": [
    "outliers.to_csv('outliers.csv')"
   ]
  }
 ],
 "metadata": {
  "kernelspec": {
   "display_name": "Python 3",
   "language": "python",
   "name": "python3"
  },
  "language_info": {
   "codemirror_mode": {
    "name": "ipython",
    "version": 3
   },
   "file_extension": ".py",
   "mimetype": "text/x-python",
   "name": "python",
   "nbconvert_exporter": "python",
   "pygments_lexer": "ipython3",
   "version": "3.7.4"
  }
 },
 "nbformat": 4,
 "nbformat_minor": 2
}
